{
 "cells": [
  {
   "cell_type": "code",
   "execution_count": 2,
   "metadata": {},
   "outputs": [],
   "source": [
    "import pandas as pd\n",
    "import duckdb"
   ]
  },
  {
   "cell_type": "code",
   "execution_count": 3,
   "metadata": {},
   "outputs": [],
   "source": [
    "conn = duckdb.connect(\"poke_api_data.duckdb\")"
   ]
  },
  {
   "cell_type": "code",
   "execution_count": 4,
   "metadata": {},
   "outputs": [
    {
     "name": "stdout",
     "output_type": "stream",
     "text": [
      "Tabelas no banco de dados:\n",
      "pokemon\n",
      "stats\n",
      "types\n"
     ]
    }
   ],
   "source": [
    "# Listar todas as tabelas existentes\n",
    "tables = conn.execute(\"SHOW TABLES;\").fetchall()\n",
    "\n",
    "# Exibir as tabelas encontradas\n",
    "print(\"Tabelas no banco de dados:\")\n",
    "for table in tables:\n",
    "    print(table[0])"
   ]
  },
  {
   "cell_type": "code",
   "execution_count": 5,
   "metadata": {},
   "outputs": [
    {
     "name": "stdout",
     "output_type": "stream",
     "text": [
      "  column_name column_type null   key default extra\n",
      "0        name     VARCHAR  YES  None    None  None\n",
      "1          id     INTEGER  YES  None    None  None\n"
     ]
    }
   ],
   "source": [
    "schema = conn.execute(\"DESCRIBE pokemon;\").fetchdf()\n",
    "print(schema)"
   ]
  },
  {
   "cell_type": "code",
   "execution_count": 6,
   "metadata": {},
   "outputs": [],
   "source": [
    "conn.close()"
   ]
  }
 ],
 "metadata": {
  "kernelspec": {
   "display_name": "venv",
   "language": "python",
   "name": "python3"
  },
  "language_info": {
   "codemirror_mode": {
    "name": "ipython",
    "version": 3
   },
   "file_extension": ".py",
   "mimetype": "text/x-python",
   "name": "python",
   "nbconvert_exporter": "python",
   "pygments_lexer": "ipython3",
   "version": "3.13.1"
  }
 },
 "nbformat": 4,
 "nbformat_minor": 2
}
