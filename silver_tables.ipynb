{
 "cells": [
  {
   "cell_type": "code",
   "execution_count": 1,
   "metadata": {},
   "outputs": [],
   "source": [
    "import pandas as pd\n",
    "import duckdb"
   ]
  },
  {
   "cell_type": "code",
   "execution_count": 2,
   "metadata": {},
   "outputs": [],
   "source": [
    "conn = duckdb.connect(\"poke_api_data.duckdb\")"
   ]
  },
  {
   "cell_type": "markdown",
   "metadata": {},
   "source": [
    "### Create a more complete pokemon database with addition of types and region informations"
   ]
  },
  {
   "cell_type": "code",
   "execution_count": 3,
   "metadata": {},
   "outputs": [
    {
     "data": {
      "text/plain": [
       "<duckdb.duckdb.DuckDBPyConnection at 0x10b2bc1b0>"
      ]
     },
     "execution_count": 3,
     "metadata": {},
     "output_type": "execute_result"
    }
   ],
   "source": [
    "query = \"\"\"\n",
    "  select \n",
    "    pokemon.id as ID,\n",
    "    pokemon.name as POKEMON,\n",
    "    types.Type_1 as MAIN_TYPE,\n",
    "    types.Type_2 as SEC_TYPE,\n",
    "    regions.main_region as REGION\n",
    "  from pokemon \n",
    "  join types on pokemon.id = types.id\n",
    "  join regions on pokemon.id = regions.id\n",
    "\"\"\"\n",
    "\n",
    "df_silver = conn.execute(query).fetchdf()\n",
    "\n",
    "# Create DuckDB database\n",
    "conn = duckdb.connect(\"poke_api_data.duckdb\")\n",
    "conn.execute(\"\"\"\n",
    "    CREATE TABLE IF NOT EXISTS s_pokemon_data ( \n",
    "      ID INT,\n",
    "      POKEMON TEXT,\n",
    "      MAIN_TYPE TEXT,\n",
    "      SEC_TYPE TEXT,\n",
    "      REGION TEXT\n",
    "    )\n",
    "\"\"\")\n",
    "conn.execute(\"\"\"INSERT INTO s_pokemon_data SELECT * FROM df_silver\"\"\")"
   ]
  },
  {
   "cell_type": "markdown",
   "metadata": {},
   "source": [
    "### Normalize stats informations"
   ]
  },
  {
   "cell_type": "code",
   "execution_count": 4,
   "metadata": {},
   "outputs": [
    {
     "data": {
      "text/plain": [
       "<duckdb.duckdb.DuckDBPyConnection at 0x10b289530>"
      ]
     },
     "execution_count": 4,
     "metadata": {},
     "output_type": "execute_result"
    }
   ],
   "source": [
    "pivt_query = \"\"\"\n",
    "SELECT\n",
    "    id,\n",
    "    MAX(CASE WHEN stat = 'attack' THEN base_stat END) AS attack,\n",
    "    MAX(CASE WHEN stat = 'defense' THEN base_stat END) AS defense,\n",
    "    MAX(CASE WHEN stat = 'speed' THEN base_stat END) AS speed,\n",
    "    MAX(CASE WHEN stat = 'special-attack' THEN base_stat END) AS sp_atck,\n",
    "    MAX(CASE WHEN stat = 'special-defense' THEN base_stat END) AS sp_def,\n",
    "    MAX(CASE WHEN stat = 'hp' THEN base_stat END) AS hp\n",
    "FROM stats\n",
    "GROUP BY id\n",
    "ORDER BY id asc;\n",
    "\"\"\"\n",
    "\n",
    "stats_pvt = conn.execute(pivt_query).fetch_df()\n",
    "\n",
    "conn = duckdb.connect(\"poke_api_data.duckdb\")\n",
    "conn.execute(\"\"\"\n",
    "    CREATE TABLE IF NOT EXISTS s_stats ( \n",
    "      ID INT,\n",
    "      ATTACK TEXT,\n",
    "      DEFENSE TEXT,\n",
    "      SPEED TEXT,\n",
    "      SP_ATCK TEXT,\n",
    "      SP_DEF TEXT,\n",
    "      HP TEXT\n",
    "    )\n",
    "\"\"\")\n",
    "conn.execute(\"\"\"INSERT INTO s_stats SELECT * FROM stats_pvt\"\"\")"
   ]
  },
  {
   "cell_type": "code",
   "execution_count": 6,
   "metadata": {},
   "outputs": [],
   "source": [
    "conn.close()"
   ]
  }
 ],
 "metadata": {
  "kernelspec": {
   "display_name": "venv",
   "language": "python",
   "name": "python3"
  },
  "language_info": {
   "codemirror_mode": {
    "name": "ipython",
    "version": 3
   },
   "file_extension": ".py",
   "mimetype": "text/x-python",
   "name": "python",
   "nbconvert_exporter": "python",
   "pygments_lexer": "ipython3",
   "version": "3.13.1"
  }
 },
 "nbformat": 4,
 "nbformat_minor": 2
}
